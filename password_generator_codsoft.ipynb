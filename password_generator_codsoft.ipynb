{
  "nbformat": 4,
  "nbformat_minor": 0,
  "metadata": {
    "colab": {
      "provenance": []
    },
    "kernelspec": {
      "name": "python3",
      "display_name": "Python 3"
    },
    "language_info": {
      "name": "python"
    }
  },
  "cells": [
    {
      "cell_type": "code",
      "execution_count": 6,
      "metadata": {
        "colab": {
          "base_uri": "https://localhost:8080/"
        },
        "id": "hYDAb-KIDUyl",
        "outputId": "f4bdf2e2-e2e0-4491-d35a-8c4619c21120"
      },
      "outputs": [
        {
          "output_type": "stream",
          "name": "stdout",
          "text": [
            "enter your name: krish\n",
            "Enter the desired length of the password: 89\n",
            "krish Generated password: (UEG&l#\"tLM!udOc.l$8p,?!#K;y}4Zt';+enJ2thS'*y>c&J>`5Hug\\xQY-C8^N`3p!ioTF3<A>5Z`p!<}1O~Sdp\n"
          ]
        }
      ],
      "source": [
        "# imorting the random lib to genrate password\n",
        "# imoprting strings lib\n",
        "\n",
        "import random\n",
        "import string\n",
        "\n",
        "\n",
        "def password_generator(length):\n",
        "    # Define the characters that can be included in the password\n",
        "\n",
        "\n",
        "    characters = string.ascii_letters + string.digits + string.punctuation\n",
        "\n",
        "    # Generate a password of the specified length\n",
        "    password = ''.join(random.choice(characters) for i in range(length))\n",
        "\n",
        "    return password\n",
        "\n",
        "def main():\n",
        "     printk=(input(\"enter your name: \"))\n",
        "    # Prompt the user to specify the desired length of the password\n",
        "     length = int(input(\"Enter the desired length of the password: \"))\n",
        "\n",
        "    # Generate a password of the specified length\n",
        "     password = password_generator(length)\n",
        "\n",
        "    # Print the generated password on the screen\n",
        "     print(printk,\"Generated password:\", password)\n",
        "\n",
        "if __name__ == \"__main__\":\n",
        "    main()"
      ]
    }
  ]
}